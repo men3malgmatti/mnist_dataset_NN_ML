{
 "cells": [
  {
   "cell_type": "code",
   "execution_count": 12,
   "metadata": {},
   "outputs": [],
   "source": [
    "import numpy as np\n",
    "import tensorflow.keras\n",
    "from tensorflow.keras.models import Sequential,load_model\n",
    "from tensorflow.keras.layers import Dense,Dropout\n",
    "from tensorflow.keras.optimizers import Adam\n",
    "from tensorflow.keras.datasets import mnist\n",
    "from tensorflow.keras.callbacks import ModelCheckpoint, EarlyStopping\n",
    "from matplotlib import pyplot as plt"
   ]
  },
  {
   "cell_type": "code",
   "execution_count": 13,
   "metadata": {
    "collapsed": true
   },
   "outputs": [],
   "source": [
    "n_of_calsses= 10\n",
    "model_path='mnist_model.h5'"
   ]
  },
  {
   "cell_type": "code",
   "execution_count": 14,
   "metadata": {
    "collapsed": true
   },
   "outputs": [],
   "source": [
    "(X_train,y_train),(X_test,y_test)=mnist.load_data()"
   ]
  },
  {
   "cell_type": "code",
   "execution_count": 15,
   "metadata": {
    "collapsed": true
   },
   "outputs": [],
   "source": [
    "X_train=X_train.reshape(len(X_train),784)\n",
    "X_test=X_test.reshape(len(X_test),784)\n",
    "X_train=X_train.astype('float32')\n",
    "X_test=X_test.astype('float32')\n",
    "X_train /= 255\n",
    "X_test /= 255"
   ]
  },
  {
   "cell_type": "code",
   "execution_count": 16,
   "metadata": {
    "collapsed": true
   },
   "outputs": [],
   "source": [
    "y_train_one_hot=tensorflow.keras.utils.to_categorical(y_train,n_of_calsses)\n",
    "y_test_one_hot=tensorflow.keras.utils.to_categorical(y_test,n_of_calsses)"
   ]
  },
  {
   "cell_type": "code",
   "execution_count": 17,
   "metadata": {
    "collapsed": true
   },
   "outputs": [],
   "source": [
    "model= Sequential()\n",
    "model.add(Dense(512,activation='relu',bias_initializer=tensorflow.keras.initializers.Constant(value=0.1),input_shape=(784,)))\n",
    "model.add(Dropout(0.2))\n",
    "model.add(Dense(512,activation='relu',bias_initializer=tensorflow.keras.initializers.Constant(value=0.1)))\n",
    "model.add(Dropout(0.2))\n",
    "model.add(Dense(n_of_calsses,activation='softmax',bias_initializer=tensorflow.keras.initializers.Constant(value=0.1)))\n"
   ]
  },
  {
   "cell_type": "code",
   "execution_count": 18,
   "metadata": {},
   "outputs": [
    {
     "name": "stdout",
     "output_type": "stream",
     "text": [
      "Model: \"sequential_1\"\n",
      "_________________________________________________________________\n",
      "Layer (type)                 Output Shape              Param #   \n",
      "=================================================================\n",
      "dense_3 (Dense)              (None, 512)               401920    \n",
      "_________________________________________________________________\n",
      "dropout_2 (Dropout)          (None, 512)               0         \n",
      "_________________________________________________________________\n",
      "dense_4 (Dense)              (None, 512)               262656    \n",
      "_________________________________________________________________\n",
      "dropout_3 (Dropout)          (None, 512)               0         \n",
      "_________________________________________________________________\n",
      "dense_5 (Dense)              (None, 10)                5130      \n",
      "=================================================================\n",
      "Total params: 669,706\n",
      "Trainable params: 669,706\n",
      "Non-trainable params: 0\n",
      "_________________________________________________________________\n"
     ]
    }
   ],
   "source": [
    "model.summary()\n",
    "model.compile(loss='categorical_crossentropy',optimizer=Adam(lr=0.001),metrics=['accuracy'])"
   ]
  },
  {
   "cell_type": "code",
   "execution_count": 19,
   "metadata": {},
   "outputs": [
    {
     "name": "stdout",
     "output_type": "stream",
     "text": [
      "Train on 51000 samples, validate on 9000 samples\n",
      "Epoch 1/1500\n",
      "51000/51000 [==============================] - 10s 192us/sample - loss: 0.2297 - accuracy: 0.9304 - val_loss: 0.1055 - val_accuracy: 0.9682\n",
      "Epoch 2/1500\n",
      "51000/51000 [==============================] - 9s 177us/sample - loss: 0.1084 - accuracy: 0.9665 - val_loss: 0.0812 - val_accuracy: 0.9753\n",
      "Epoch 3/1500\n",
      "51000/51000 [==============================] - 9s 178us/sample - loss: 0.0836 - accuracy: 0.9739 - val_loss: 0.0876 - val_accuracy: 0.9754\n",
      "Epoch 4/1500\n",
      "51000/51000 [==============================] - 9s 184us/sample - loss: 0.0677 - accuracy: 0.9783 - val_loss: 0.0839 - val_accuracy: 0.9773\n",
      "Epoch 5/1500\n",
      "51000/51000 [==============================] - 9s 181us/sample - loss: 0.0586 - accuracy: 0.9819 - val_loss: 0.0802 - val_accuracy: 0.9771\n",
      "Epoch 6/1500\n",
      "51000/51000 [==============================] - 9s 180us/sample - loss: 0.0504 - accuracy: 0.9842 - val_loss: 0.0826 - val_accuracy: 0.9791\n",
      "Epoch 7/1500\n",
      "51000/51000 [==============================] - 9s 179us/sample - loss: 0.0462 - accuracy: 0.9857 - val_loss: 0.0941 - val_accuracy: 0.9792\n",
      "Epoch 8/1500\n",
      "51000/51000 [==============================] - 9s 182us/sample - loss: 0.0434 - accuracy: 0.9862 - val_loss: 0.0947 - val_accuracy: 0.9768\n",
      "Epoch 9/1500\n",
      "51000/51000 [==============================] - 9s 184us/sample - loss: 0.0393 - accuracy: 0.9876 - val_loss: 0.0852 - val_accuracy: 0.9799\n",
      "Epoch 10/1500\n",
      "51000/51000 [==============================] - 9s 185us/sample - loss: 0.0368 - accuracy: 0.9889 - val_loss: 0.0896 - val_accuracy: 0.9803\n",
      "Epoch 11/1500\n",
      "51000/51000 [==============================] - 9s 183us/sample - loss: 0.0361 - accuracy: 0.9893 - val_loss: 0.0860 - val_accuracy: 0.9820\n",
      "Epoch 12/1500\n",
      "51000/51000 [==============================] - 9s 186us/sample - loss: 0.0307 - accuracy: 0.9907 - val_loss: 0.0916 - val_accuracy: 0.9818\n",
      "Epoch 13/1500\n",
      "51000/51000 [==============================] - 9s 183us/sample - loss: 0.0327 - accuracy: 0.9904 - val_loss: 0.0846 - val_accuracy: 0.9814\n",
      "Epoch 14/1500\n",
      "51000/51000 [==============================] - 10s 192us/sample - loss: 0.0303 - accuracy: 0.9911 - val_loss: 0.0922 - val_accuracy: 0.9791\n",
      "Epoch 15/1500\n",
      "51000/51000 [==============================] - 9s 185us/sample - loss: 0.0287 - accuracy: 0.9920 - val_loss: 0.1010 - val_accuracy: 0.9824\n"
     ]
    }
   ],
   "source": [
    "history=model.fit(X_train,y_train_one_hot,shuffle=True,epochs=1500,validation_split=0.15,verbose=1,callbacks=\n",
    "                  [EarlyStopping(monitor='val_loss',min_delta=0,patience=10,verbose=0,mode='min'),\n",
    "                   ModelCheckpoint(model_path,monitor='val_loss',save_best_only=True,mode='min',verbose=0)])"
   ]
  },
  {
   "cell_type": "code",
   "execution_count": 20,
   "metadata": {},
   "outputs": [
    {
     "data": {
      "image/png": "[encoded data removed]",
      "text/plain": [
       "<Figure size 432x288 with 1 Axes>"
      ]
     },
     "metadata": {},
     "output_type": "display_data"
    }
   ],
   "source": [
    "plt.plot(history.history['loss'])\n",
    "plt.plot(history.history['val_loss'])\n",
    "plt.ylabel('LOSS')\n",
    "plt.xlabel('epoch')\n",
    "plt.legend(['train', 'test'], loc='upper left')\n",
    "plt.show()"
   ]
  },
  {
   "cell_type": "code",
   "execution_count": 21,
   "metadata": {},
   "outputs": [
    {
     "name": "stdout",
     "output_type": "stream",
     "text": [
      "Prediction:  2\n",
      "Ground Truth:  [0. 0. 1. 0. 0. 0. 0. 0. 0. 0.]\n"
     ]
    }
   ],
   "source": [
    "estimator = load_model(model_path)\n",
    "test_input = np.array([X_test[1]])\n",
    "prediction=np.argmax(estimator.predict(test_input))\n",
    "print(\"Prediction: \", prediction)\n",
    "print(\"Ground Truth: \", y_test_one_hot[1])"
   ]
  },
  {
   "cell_type": "code",
   "execution_count": 23,
   "metadata": {},
   "outputs": [
    {
     "name": "stdout",
     "output_type": "stream",
     "text": [
      "Model: \"sequential_1\"\n",
      "_________________________________________________________________\n",
      "Layer (type)                 Output Shape              Param #   \n",
      "=================================================================\n",
      "dense_3 (Dense)              (None, 512)               401920    \n",
      "_________________________________________________________________\n",
      "dropout_2 (Dropout)          (None, 512)               0         \n",
      "_________________________________________________________________\n",
      "dense_4 (Dense)              (None, 512)               262656    \n",
      "_________________________________________________________________\n",
      "dropout_3 (Dropout)          (None, 512)               0         \n",
      "_________________________________________________________________\n",
      "dense_5 (Dense)              (None, 10)                5130      \n",
      "=================================================================\n",
      "Total params: 669,706\n",
      "Trainable params: 669,706\n",
      "Non-trainable params: 0\n",
      "_________________________________________________________________\n"
     ]
    }
   ],
   "source": [
    "estimator.summary()\n"
   ]
  },
  {
   "cell_type": "code",
   "execution_count": 30,
   "metadata": {},
   "outputs": [],
   "source": [
    "score=estimator.evaluate(X_test,y_test_one_hot)"
   ]
  },
  {
   "cell_type": "code",
   "execution_count": 31,
   "metadata": {},
   "outputs": [
    {
     "name": "stdout",
     "output_type": "stream",
     "text": [
      "Accuracy:  98.00999760627747\n"
     ]
    }
   ],
   "source": [
    "print('Accuracy: ',score[1]*100.0)"
   ]
  },
  {
   "cell_type": "code",
   "execution_count": null,
   "metadata": {
    "collapsed": true
   },
   "outputs": [],
   "source": []
  }
 ],
 "metadata": {
  "kernelspec": {
   "display_name": "Python 3",
   "language": "python",
   "name": "python3"
  },
  "language_info": {
   "codemirror_mode": {
    "name": "ipython",
    "version": 3
   },
   "file_extension": ".py",
   "mimetype": "text/x-python",
   "name": "python",
   "nbconvert_exporter": "python",
   "pygments_lexer": "ipython3",
   "version": "3.6.3"
  }
 },
 "nbformat": 4,
 "nbformat_minor": 2
}
